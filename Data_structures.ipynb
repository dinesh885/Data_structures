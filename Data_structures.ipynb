{
 "cells": [
  {
   "cell_type": "markdown",
   "id": "9c85573f-6364-47cb-8989-bd5749349c7b",
   "metadata": {},
   "source": [
    "#Theory Questions\n",
    "1. What are data structures, and why are they important?\n",
    "   Data structures are way of organising and storing data so that it can be accessed and manipulated efficiently.\n",
    "   Some of them are strings, list, set, tuples,dictionary etc.\n",
    "   Data structures are important because of improving efficiency, optimal usage, problem solving, scalability.\n",
    "   \n",
    "2. Explain the difference between mutable and immutable data types with examples.\n",
    "   Mutable data types are those where the objects/container elements whose state or value can be modified after they are created. for example lists\n",
    "   Immutable data types are those where the objects/container elements whose state or value not be modified after they are created. for example            strings,tuples.\n",
    "\n",
    "      \n",
    "4. What are the main differences between lists and tuples in Python?\n",
    "   a) Mutability: Lists are mutable and the tuples are immutable.\n",
    "   b) Syntax: Lists are created with square brackets[] , tuples are created with parenthesis()\n",
    "   c) Use cases: Lists can be used when you need a collection of items that can be modified during the course of programme.Tuples can be used when you        want to store data that should not change after creation, ensuring the integrity of the data.\n",
    "   d) Dictionary Keys: Lists cannot be used as dictionary keys because of mutability and tuples can be used as dictionary keys because of immutablity.\n",
    "   e) Methods: Lists have several methods because of mutability like append(), extend(),remove(),pop()..etc. Tuples have limited methods due to               immuatble like count(), index()..etc\n",
    "   \n",
    "5. Describe how dictionaries store data.\n",
    "   Dictionaries store data in a collection of key- value pairs. Each key is unique and maps to a corresponding value.Teh key is used to retrive or         update the value.\n",
    "   ex: my_dic={\"name\":\"dinesh\" ,\"age\":21, \"city\":\"vizag\"}\n",
    "       here name, age, city are keys and dinesh,21,vizag are values.\n",
    "      \n",
    "6. Why might you use a set instead of a list in Python?\n",
    "   Sets can be used to ensure all elements are unique,to perform mathematical set operations and the order of elements does not matter.\n",
    "   \n",
    "7. What is a string in Python, and how is it different from a list\n",
    "   A string is a sequence of characters used to represent text. It is an immutable data type, meaning once it is created, its contents cannot be           changed. Strings are enclosed in either single quotes (') or double quotes (\"), and they can represent anything from a simple character to an entire    paragraph.\n",
    "\n",
    "   Differences between lists and string:\n",
    "   a)Mutability: Lists are muatble and strings are immutable.\n",
    "   b)Data type: strings contain only characters, lists can store any type of data.\n",
    "   c)use case: strings are used for representing text data, lists are used for storing ordered collection of items.\n",
    "   \n",
    "8. How do tuples ensure data integrity in Python?\n",
    "   Tuples help ensure data integrity through their immutability. This characteristic makes tuples particularly useful when you need to ensure that the     data remains constant throughout the program.\n",
    "\n",
    "9. What is a hash table, and how does it relate to dictionaries in Python?\n",
    "   A hash table is a data structure that allows for efficient data retrieval based on a key. It stores data in an array-like structure, where each         element (or \"value\") is accessed using a hash function applied to its corresponding key. The hash function converts the key into an integer (called     a hash code), which is used to determine the index in an array where the value associated with that key is stored. This allows for fast O(1)            average- time complexity for insertion, deletion, and lookup operations, making hash tables very efficient.\n",
    "\n",
    "10. Can lists contain different data types in Python?\n",
    "   Lists in Python can contain elements of different data types, you can store integers, strings, floating-point numbers, booleans, other lists, or         even more complex objects, all in the same list.\n",
    "    list=[21,\"ajay\",2.4,True,3+4j]\n",
    " \n",
    "11. Explain why strings are immutable in Python.\n",
    "    Strings are immutable beacuse to improve efficiency, prdicatbility,security, optimization,simplification.\n",
    "    \n",
    "12. What advantages do dictionaries offer over lists for certain tasks\n",
    "    Advantages of dictionaries over lists:\n",
    "    a)Store data as key-value pairs, making it ideal for representing relationships or mappings.\n",
    "    b)Efficient insertions and deletions based on keys \n",
    "    c)Ensure uniqueness of keys, preventing duplicates.\n",
    "    d)Ideal for modeling real-world relationships between data.\n",
    "    e)More memory-efficient for sparse data compared to lists.\n",
    "    f)Allow access to data via meaningful identifiers rather than indices.\n",
    "    g)Iterating over both keys and values is more intuitive than iterating over list indices.\n",
    "    \n",
    "  \n",
    "13. Describe a scenario where using a tuple would be preferable over a list.\n",
    "\n",
    "    Calendar application or event scheduling system, where you need to store and manage specific dates (e.g., event dates, due dates, or birthdays).        Each date is defined by three components: year, month, and day. Once a date is set, it should not change. For this kind of use case, using a tuple      is a better choice than a list, as it ensures the integrity of the data and provides other benefits.\n",
    "    Tuple is preferred because of immuatbility, performance..etc\n",
    "\n",
    "14. How do sets handle duplicate values in Python?\n",
    "    Sets automatically handle duplicate values by eliminating them. This means that a set only contains unique elements, and if you try to add a            duplicate value, the set will simply ignore it.\n",
    "\n",
    "15. How does the \"in\" keyword work differently for lists and dictionaries?\n",
    "    Lists: in checks for values in the list.\n",
    "    Dictionaries: in checks for keys by default in the dictionary. To check for values, you need to use my_dict.values().\n",
    "\n",
    "16. Can you modify the elements of a tuple? Explain why or why not.\n",
    "    No, you cannot modify the elements of a tuple in Python. This is because tuples are immutable, meaning once they are created, their contents cannot     be changed (i.e., elements cannot be added, removed, or modified).\n",
    "    \n",
    "17. What is a nested dictionary, and give an example of its use case?\n",
    "    A nested dictionary is a dictionary in Python where the values associated with one or more keys are themselves dictionaries. This allows you to         represent more complex data structures where multiple levels of key-value pairs are needed. Nested dictionaries are often used to model                 hierarchical data, such as records with multiple attributes or relationships between objects.\n",
    "\n",
    "    example: storing emplyees data, representing collection of books details like title, author for each book.\n",
    "\n",
    "18. Describe the time complexity of accessing elements in a dictionary.\n",
    "    The time complexity of accessing elements in a dictionary in Python is O(1) on average. This means that retrieving a value using a key in a             dictionary takes constant time, regardless of the size of the dictionary.\n",
    "\n",
    "19. In what situations are lists preferred over dictionaries?\n",
    "    lists are preferred when:\n",
    "    You need to store ordered sequences of items.\n",
    "    You need to access elements by their index.\n",
    "    You are working with homogeneous data or need duplicates.\n",
    "    You need to perform operations like iteration, sorting, or modifying elements by index.\n",
    "\n",
    "20. Why arc dictionaries considered unordered, and how docs that affect data retrieval?\n",
    "   Dictionaries used hashing to store key-value pairs. The hash function that computed the position for a key in the dictionary's internal hash table      did not preserve any specific ordering of keys. This made it impossible to rely on the order in which items were inserted into the dictionary.\n",
    "   The unordered nature of dictionaries does not affect the speed of data retrieval. Dictionary lookups, insertions, and deletions based on the key are    very efficient because they rely on hashing.\n",
    "\n",
    "21. Explain the difference between a list and a dictionary in terms of data retrieval.\n",
    "    a)list preferred when:\n",
    "      You need to access data by position or index.\n",
    "      The order of elements is important.\n",
    "      You may need to store duplicate values.\n",
    "    b)dictionary preferred when:\n",
    "      You need fast lookups based on unique keys.\n",
    "      The data you are working with is naturally represented as key-value pairs (e.g., a mapping of names to scores).\n",
    "      You do not need to care about the order of the elements (although it is preserved from Python 3.7+).\n",
    "\n",
    "    "
   ]
  },
  {
   "cell_type": "code",
   "execution_count": 1,
   "id": "110c770e-8207-41e3-9ba7-e7ce25db0a32",
   "metadata": {},
   "outputs": [
    {
     "name": "stdout",
     "output_type": "stream",
     "text": [
      "dinesh\n"
     ]
    }
   ],
   "source": [
    "#1. Write a code to create a string with your name and print it.\n",
    "name= \"dinesh\"\n",
    "print(name)"
   ]
  },
  {
   "cell_type": "code",
   "execution_count": 2,
   "id": "2c98b7ca-4727-4749-ad0d-21a0e7167eab",
   "metadata": {},
   "outputs": [
    {
     "data": {
      "text/plain": [
       "11"
      ]
     },
     "execution_count": 2,
     "metadata": {},
     "output_type": "execute_result"
    }
   ],
   "source": [
    "#2. Write a code to find the length of the string \"Hello World\".\n",
    "a=\"Hello World\"\n",
    "len(a)"
   ]
  },
  {
   "cell_type": "code",
   "execution_count": 3,
   "id": "0c57ffb7-6492-4645-aa9d-aae276126e95",
   "metadata": {},
   "outputs": [
    {
     "data": {
      "text/plain": [
       "'hon Programming'"
      ]
     },
     "execution_count": 3,
     "metadata": {},
     "output_type": "execute_result"
    }
   ],
   "source": [
    "#3. Write a code to slice the first 3 characters from the string \"Python Programming\".\n",
    "char=\"Python Programming\"\n",
    "char[3:]"
   ]
  },
  {
   "cell_type": "code",
   "execution_count": 4,
   "id": "a8f4fe6b-7e94-4f7d-b339-ccc038c279d7",
   "metadata": {},
   "outputs": [
    {
     "data": {
      "text/plain": [
       "'HELLO'"
      ]
     },
     "execution_count": 4,
     "metadata": {},
     "output_type": "execute_result"
    }
   ],
   "source": [
    "#4. Write a code to convert the string \"hello\" to uppercase.\n",
    "a=\"hello\"\n",
    "a.upper()"
   ]
  },
  {
   "cell_type": "code",
   "execution_count": 14,
   "id": "05c9636f-012f-4d62-8d03-667f7787140b",
   "metadata": {},
   "outputs": [
    {
     "data": {
      "text/plain": [
       "'I like orange'"
      ]
     },
     "execution_count": 14,
     "metadata": {},
     "output_type": "execute_result"
    }
   ],
   "source": [
    "#5. Write a code to replace the word \"apple\" with \"orange\" in the string \"I like apple\".\n",
    "a= \"I like apple\"\n",
    "a.replace(\"apple\",\"orange\")"
   ]
  },
  {
   "cell_type": "code",
   "execution_count": 17,
   "id": "b04a0c6b-b1e5-4f80-bf3c-2590c42274ab",
   "metadata": {},
   "outputs": [
    {
     "name": "stdout",
     "output_type": "stream",
     "text": [
      "[1, 2, 3, 4, 5]\n"
     ]
    }
   ],
   "source": [
    "#6. Write a code to create a list with numbers 1 to 5 and print it.\n",
    "a=list(range(1,6))\n",
    "print(a)"
   ]
  },
  {
   "cell_type": "code",
   "execution_count": 19,
   "id": "6009fe2d-7d7f-4fc8-993b-3bb4e986aa34",
   "metadata": {},
   "outputs": [
    {
     "data": {
      "text/plain": [
       "[1, 2, 3, 4, 10]"
      ]
     },
     "execution_count": 19,
     "metadata": {},
     "output_type": "execute_result"
    }
   ],
   "source": [
    "#7. Write a code to append the number 10 to the list [1, 2, 3, 4].\n",
    "a=[1,2,3,4]\n",
    "a.append(10)\n",
    "a"
   ]
  },
  {
   "cell_type": "code",
   "execution_count": 20,
   "id": "65314c5e-004e-4487-ae53-9ad2ad77c431",
   "metadata": {},
   "outputs": [
    {
     "data": {
      "text/plain": [
       "[1, 2, 4, 5]"
      ]
     },
     "execution_count": 20,
     "metadata": {},
     "output_type": "execute_result"
    }
   ],
   "source": [
    "#8. Write a code to remove the number 3 from the list [1, 2, 3, 4, 5).\n",
    "a=[1,2,3,4,5]\n",
    "a.remove(3)\n",
    "a"
   ]
  },
  {
   "cell_type": "code",
   "execution_count": 21,
   "id": "14e4f833-0229-478e-9ba0-48596e702644",
   "metadata": {},
   "outputs": [
    {
     "data": {
      "text/plain": [
       "'b'"
      ]
     },
     "execution_count": 21,
     "metadata": {},
     "output_type": "execute_result"
    }
   ],
   "source": [
    "#9. Write a code to access the second element in the list ['a', 'b', 'c', 'd'].\n",
    "a=['a','b','c','d']\n",
    "a[1]"
   ]
  },
  {
   "cell_type": "code",
   "execution_count": 24,
   "id": "11ed886b-7da9-4602-9ba3-7c7c02c4ab5b",
   "metadata": {},
   "outputs": [
    {
     "data": {
      "text/plain": [
       "[50, 40, 30, 20, 10]"
      ]
     },
     "execution_count": 24,
     "metadata": {},
     "output_type": "execute_result"
    }
   ],
   "source": [
    "#10. Write a code to reverse the list (10, 20, 30, 40, 50).\n",
    "a=[10,20,30,40,50]\n",
    "a[::-1]"
   ]
  },
  {
   "cell_type": "code",
   "execution_count": 25,
   "id": "1fe94e12-39e1-440d-a791-84147a494024",
   "metadata": {},
   "outputs": [
    {
     "name": "stdout",
     "output_type": "stream",
     "text": [
      "(100, 200, 300)\n"
     ]
    }
   ],
   "source": [
    "#11. Write a code to create a tuple with the elements 100, 200, 300 and print it.\n",
    "a=(100,200,300)\n",
    "print(a)"
   ]
  },
  {
   "cell_type": "code",
   "execution_count": 27,
   "id": "d187b3dd-4a61-4f1c-9a99-a03173d13c2b",
   "metadata": {},
   "outputs": [
    {
     "data": {
      "text/plain": [
       "'blue'"
      ]
     },
     "execution_count": 27,
     "metadata": {},
     "output_type": "execute_result"
    }
   ],
   "source": [
    "#12. Write a code to access the second-to-last element of the tuple (\"red\", \"green\", \"blue\", \"'yellow).\n",
    "a=(\"red\", \"green\", \"blue\", \"yellow\")\n",
    "a[-2]"
   ]
  },
  {
   "cell_type": "code",
   "execution_count": 28,
   "id": "6d7c11ba-9d9a-4111-a78b-0ac533803b3a",
   "metadata": {},
   "outputs": [
    {
     "data": {
      "text/plain": [
       "5"
      ]
     },
     "execution_count": 28,
     "metadata": {},
     "output_type": "execute_result"
    }
   ],
   "source": [
    "#13. Write a code to find the minimum number in the tuple (10, 20, 5, 15).\n",
    "a=(10, 20, 5, 15)\n",
    "min(a)"
   ]
  },
  {
   "cell_type": "code",
   "execution_count": 29,
   "id": "72c78b43-1ca3-4654-8b4f-6607d3cd6665",
   "metadata": {},
   "outputs": [
    {
     "data": {
      "text/plain": [
       "1"
      ]
     },
     "execution_count": 29,
     "metadata": {},
     "output_type": "execute_result"
    }
   ],
   "source": [
    "#14. Write a code to find the index of the element \"cat\" in the tuple ('dog', 'cat', 'rabbit').\n",
    "a=('dog', 'cat', 'rabbit')\n",
    "a.index('cat')"
   ]
  },
  {
   "cell_type": "code",
   "execution_count": 30,
   "id": "19af7b11-3a97-4e24-91f4-708666699435",
   "metadata": {},
   "outputs": [
    {
     "name": "stdout",
     "output_type": "stream",
     "text": [
      "yes\n"
     ]
    }
   ],
   "source": [
    "#15. Write a code to create a tuple containing three different fruits and check if 'kiwi\" is in it.\n",
    "a=(\"apple\",\"banana\",\"kiwi\")\n",
    "if \"kiwi\" in a:\n",
    "    print(\"yes\")\n",
    "    "
   ]
  },
  {
   "cell_type": "code",
   "execution_count": 31,
   "id": "02f141f4-a9e8-4a17-87e5-403698b1e057",
   "metadata": {},
   "outputs": [
    {
     "name": "stdout",
     "output_type": "stream",
     "text": [
      "{'a', 'b', 'c'}\n"
     ]
    }
   ],
   "source": [
    "#16. Write a code to create a set with the elements 'a', 'b', 'c' and print it.\n",
    "set={'a', 'b', 'c'}\n",
    "print(set)"
   ]
  },
  {
   "cell_type": "code",
   "execution_count": 34,
   "id": "8f8c5e9c-29c8-4d23-85e5-5d0f20daa035",
   "metadata": {},
   "outputs": [
    {
     "data": {
      "text/plain": [
       "set()"
      ]
     },
     "execution_count": 34,
     "metadata": {},
     "output_type": "execute_result"
    }
   ],
   "source": [
    "#17. Write a code to clear all elements from the set {1, 2, 3, 4, 5}.\n",
    "a={1, 2, 3, 4, 5}\n",
    "a.clear()\n",
    "a"
   ]
  },
  {
   "cell_type": "code",
   "execution_count": 36,
   "id": "6ee087fc-b1a9-44d2-8f79-a9b295de2381",
   "metadata": {},
   "outputs": [
    {
     "data": {
      "text/plain": [
       "{1, 2, 3}"
      ]
     },
     "execution_count": 36,
     "metadata": {},
     "output_type": "execute_result"
    }
   ],
   "source": [
    "#18. Write a code to remove the element 4 from the set {1, 2, 3, 4}.\n",
    "a={1, 2, 3, 4}\n",
    "a.remove(4)\n",
    "a"
   ]
  },
  {
   "cell_type": "code",
   "execution_count": 37,
   "id": "fad28b2b-8d36-45c3-9842-e8ce8da1b0bf",
   "metadata": {},
   "outputs": [
    {
     "name": "stdout",
     "output_type": "stream",
     "text": [
      "{1, 2, 3, 4, 5}\n"
     ]
    }
   ],
   "source": [
    "#19. Write a code to find the union of two sets {1, 2, 3} and {3, 4, 5}).\n",
    "a={1, 2, 3}\n",
    "b={3, 4, 5}\n",
    "c=a|b\n",
    "print(c)"
   ]
  },
  {
   "cell_type": "code",
   "execution_count": 38,
   "id": "3cce35bb-59c0-43d0-b596-8a732dbd16cd",
   "metadata": {},
   "outputs": [
    {
     "name": "stdout",
     "output_type": "stream",
     "text": [
      "{2, 3}\n"
     ]
    }
   ],
   "source": [
    "#20. Write a code to find the intersection of two sets {1, 2, 3} and {2, 3, 4}.\n",
    "a={1, 2, 3}\n",
    "b={2,3,4}\n",
    "c=a&b\n",
    "print(c)"
   ]
  },
  {
   "cell_type": "code",
   "execution_count": 40,
   "id": "33243b7d-23d3-4abb-85c0-5db041d75608",
   "metadata": {},
   "outputs": [
    {
     "name": "stdout",
     "output_type": "stream",
     "text": [
      "{'name': 'Dinesh', 'age': 27, 'city': 'vizag'}\n"
     ]
    }
   ],
   "source": [
    "#21. Write a code to create a dictionary with the keys \"name\", \"age\", and \"city\", and print it.\n",
    "my_dict={\"name\":\"Dinesh\",\"age\":27,\"city\":\"vizag\"}\n",
    "print(my_dict)"
   ]
  },
  {
   "cell_type": "code",
   "execution_count": 41,
   "id": "27946b75-c85a-4d19-9f66-33e182870da5",
   "metadata": {},
   "outputs": [
    {
     "data": {
      "text/plain": [
       "{'name': 'John', 'age': 25, 'country': 'USA'}"
      ]
     },
     "execution_count": 41,
     "metadata": {},
     "output_type": "execute_result"
    }
   ],
   "source": [
    "#22. Write a code to add a new key-value pair \"country\": \"USA\" to the dictionary {'name': 'John', 'age': 25}.\n",
    "a={'name': 'John', 'age': 25}\n",
    "a[\"country\"] =\"USA\"\n",
    "a"
   ]
  },
  {
   "cell_type": "code",
   "execution_count": 43,
   "id": "94376ec3-05fe-442c-8042-03fc405e1ab6",
   "metadata": {},
   "outputs": [
    {
     "data": {
      "text/plain": [
       "'Alice'"
      ]
     },
     "execution_count": 43,
     "metadata": {},
     "output_type": "execute_result"
    }
   ],
   "source": [
    "#23. Write a code to access the value associated with the key \"name\" in the dictionary {'name': 'Alice', 'age: 30).\n",
    "a={'name':'Alice','age': 30}\n",
    "a['name']"
   ]
  },
  {
   "cell_type": "code",
   "execution_count": 47,
   "id": "99129b14-f219-4a08-8704-7609d1fa9a96",
   "metadata": {},
   "outputs": [
    {
     "data": {
      "text/plain": [
       "{'name': 'Bob', 'city': 'New York'}"
      ]
     },
     "execution_count": 47,
     "metadata": {},
     "output_type": "execute_result"
    }
   ],
   "source": [
    "#24. Write a code to remove the key \"age\" from the dictionary {'name': 'Bob'\", \"age\": 22, \"city\": \"New York\"}.\n",
    "a= {'name': 'Bob', \"age\": 22, \"city\": \"New York\"}\n",
    "del a[\"age\"]\n",
    "a"
   ]
  },
  {
   "cell_type": "code",
   "execution_count": 48,
   "id": "0ab8afd6-c1b9-450c-9af5-10bfa5c17fc8",
   "metadata": {},
   "outputs": [
    {
     "name": "stdout",
     "output_type": "stream",
     "text": [
      "yes\n"
     ]
    }
   ],
   "source": [
    "#25. Write a code to check if the key \"city\" exists in the dictionary {'name': 'Alice', 'city': 'Paris'}.\n",
    "a={'name': 'Alice', 'city': 'Paris'}\n",
    "if 'city' in a.keys():\n",
    "    print(\"yes\")"
   ]
  },
  {
   "cell_type": "code",
   "execution_count": 49,
   "id": "dfaea67e-5022-4f15-a50b-d0452aaa4b40",
   "metadata": {},
   "outputs": [
    {
     "name": "stdout",
     "output_type": "stream",
     "text": [
      "List: [10, 20, 30]\n",
      "Tuple: (10, 50, 100)\n",
      "Dictionary: {'name': 'Bob', 'age': 22, 'city': 'New York'}\n"
     ]
    }
   ],
   "source": [
    "#26. Write a code to create a list, a tuple, and a dictionary, and print them all.\n",
    "a=[10,20,30]\n",
    "b=(10,50,100)\n",
    "c={'name': 'Bob', \"age\": 22, \"city\": \"New York\"}\n",
    "\n",
    "print(\"List:\",a)\n",
    "print(\"Tuple:\",b)\n",
    "print(\"Dictionary:\",c)\n"
   ]
  },
  {
   "cell_type": "code",
   "execution_count": 54,
   "id": "95b63d56-3a72-4733-9788-8c8830fd662b",
   "metadata": {},
   "outputs": [
    {
     "name": "stdout",
     "output_type": "stream",
     "text": [
      "[23, 31, 61, 67, 78]\n"
     ]
    }
   ],
   "source": [
    "#27. Write a code to create a list of 5 random numbers between 1 and 100, sort it in ascending order, and print the result\n",
    "import random\n",
    "\n",
    "a = []\n",
    "\n",
    "for i in range(5):\n",
    "    a.append(random.randint(1, 100))\n",
    "a.sort()\n",
    "print(a)"
   ]
  },
  {
   "cell_type": "code",
   "execution_count": 55,
   "id": "91adf4e6-905b-4b7d-b5f4-94288bdfe037",
   "metadata": {},
   "outputs": [
    {
     "data": {
      "text/plain": [
       "'suresh'"
      ]
     },
     "execution_count": 55,
     "metadata": {},
     "output_type": "execute_result"
    }
   ],
   "source": [
    "#28. Write a code to create a list with strings and print the element at the third index.\n",
    "a=[\"dinesh\",\"rakesh\",\"ganesh\",\"suresh\"]\n",
    "a[3]"
   ]
  },
  {
   "cell_type": "code",
   "execution_count": 68,
   "id": "5cffbfaa-9beb-4692-bc2c-3334d9dc950e",
   "metadata": {},
   "outputs": [
    {
     "data": {
      "text/plain": [
       "{'name': 'ajay', 'email': 'ajay@gmail.com', 'course': 'ds'}"
      ]
     },
     "execution_count": 68,
     "metadata": {},
     "output_type": "execute_result"
    }
   ],
   "source": [
    "#29. Write a code to combine two dictionaries into one and print the result.\n",
    "d1={\"course\":\"ds\"}\n",
    "d={\"name\":\"ajay\",\"email\":\"ajay@gmail.com\"}\n",
    "d.update(d1)\n",
    "d"
   ]
  },
  {
   "cell_type": "code",
   "execution_count": 86,
   "id": "022c1b9f-1276-4e19-8cfe-08189de2d0c5",
   "metadata": {},
   "outputs": [
    {
     "ename": "TypeError",
     "evalue": "'set' object is not callable",
     "output_type": "error",
     "traceback": [
      "\u001b[31m---------------------------------------------------------------------------\u001b[39m",
      "\u001b[31mTypeError\u001b[39m                                 Traceback (most recent call last)",
      "\u001b[36mCell\u001b[39m\u001b[36m \u001b[39m\u001b[32mIn[86]\u001b[39m\u001b[32m, line 4\u001b[39m\n\u001b[32m      1\u001b[39m \u001b[38;5;66;03m#30. Write a code to convert a list of strings into a set.\u001b[39;00m\n\u001b[32m      3\u001b[39m a = [\u001b[33m\"\u001b[39m\u001b[33mapple\u001b[39m\u001b[33m\"\u001b[39m, \u001b[33m\"\u001b[39m\u001b[33mbanana\u001b[39m\u001b[33m\"\u001b[39m, \u001b[33m\"\u001b[39m\u001b[33mcherry\u001b[39m\u001b[33m\"\u001b[39m, \u001b[33m\"\u001b[39m\u001b[33mapple\u001b[39m\u001b[33m\"\u001b[39m, \u001b[33m\"\u001b[39m\u001b[33mbanana\u001b[39m\u001b[33m\"\u001b[39m]\n\u001b[32m----> \u001b[39m\u001b[32m4\u001b[39m b= \u001b[38;5;28;43mset\u001b[39;49m\u001b[43m(\u001b[49m\u001b[43ma\u001b[49m\u001b[43m)\u001b[49m\n\u001b[32m      5\u001b[39m \u001b[38;5;28mprint\u001b[39m(b)\n",
      "\u001b[31mTypeError\u001b[39m: 'set' object is not callable"
     ]
    }
   ],
   "source": [
    "#30. Write a code to convert a list of strings into a set.\n",
    "\n",
    "a = [\"apple\", \"banana\", \"cherry\", \"apple\", \"banana\"]\n",
    "b= set(a)\n",
    "print(b)"
   ]
  },
  {
   "cell_type": "code",
   "execution_count": null,
   "id": "ab704c6b-0c4d-4b4f-a4ff-d5cf5a4278e6",
   "metadata": {},
   "outputs": [],
   "source": []
  },
  {
   "cell_type": "code",
   "execution_count": null,
   "id": "f48fc7b4-28d2-49d9-a73a-93861888e48f",
   "metadata": {},
   "outputs": [],
   "source": []
  }
 ],
 "metadata": {
  "kernelspec": {
   "display_name": "Python 3 (ipykernel)",
   "language": "python",
   "name": "python3"
  },
  "language_info": {
   "codemirror_mode": {
    "name": "ipython",
    "version": 3
   },
   "file_extension": ".py",
   "mimetype": "text/x-python",
   "name": "python",
   "nbconvert_exporter": "python",
   "pygments_lexer": "ipython3",
   "version": "3.13.2"
  }
 },
 "nbformat": 4,
 "nbformat_minor": 5
}
